{
 "nbformat": 4,
 "nbformat_minor": 2,
 "metadata": {
  "language_info": {
   "name": "python",
   "codemirror_mode": {
    "name": "ipython",
    "version": 3
   },
   "version": "3.7.4-final"
  },
  "orig_nbformat": 2,
  "file_extension": ".py",
  "mimetype": "text/x-python",
  "name": "python",
  "npconvert_exporter": "python",
  "pygments_lexer": "ipython3",
  "version": 3,
  "kernelspec": {
   "name": "python37464bit43b0aca25f3a478a89236e706d769e39",
   "display_name": "Python 3.7.4 64-bit"
  }
 },
 "cells": [
  {
   "cell_type": "code",
   "execution_count": 7,
   "metadata": {},
   "outputs": [
    {
     "name": "stdout",
     "output_type": "stream",
     "text": "Number of Classes: 10\nModel: \"sequential_4\"\n_________________________________________________________________\nLayer (type)                 Output Shape              Param #   \n=================================================================\nconv2d_7 (Conv2D)            (None, 26, 26, 32)        320       \n_________________________________________________________________\nconv2d_8 (Conv2D)            (None, 24, 24, 64)        18496     \n_________________________________________________________________\nmax_pooling2d_4 (MaxPooling2 (None, 12, 12, 64)        0         \n_________________________________________________________________\ndropout_7 (Dropout)          (None, 12, 12, 64)        0         \n_________________________________________________________________\nflatten_4 (Flatten)          (None, 9216)              0         \n_________________________________________________________________\ndense_7 (Dense)              (None, 128)               1179776   \n_________________________________________________________________\ndropout_8 (Dropout)          (None, 128)               0         \n_________________________________________________________________\ndense_8 (Dense)              (None, 10)                1290      \n=================================================================\nTotal params: 1,199,882\nTrainable params: 1,199,882\nNon-trainable params: 0\n_________________________________________________________________\nNone\n"
    }
   ],
   "source": [
    "import keras\n",
    "from keras.datasets import mnist\n",
    "from keras.utils import np_utils\n",
    "from keras.models import Sequential\n",
    "from keras.layers import Dense, Dropout, Flatten, Conv2D, MaxPooling2D\n",
    "from keras.callbacks import ModelCheckpoint, EarlyStopping\n",
    "from keras import backend as k\n",
    "import os\n",
    "\n",
    "#parametri de instruire\n",
    "batch_size = 64\n",
    "epochs =15\n",
    "\n",
    "#incarcare baza de date \n",
    "(x_train, y_train), (x_test, y_test) = mnist.load_data()\n",
    "\n",
    "#Stocarea numerelor in randuri si coloane\n",
    "img_rows = x_train[0].shape[0]\n",
    "img_cols = x_train[1].shape[0]\n",
    "\n",
    "#Transforma datele noaste intro forma/shape  care ii este neceasa lui keras\n",
    "#trebuie sa adugam 4 dimensiun pentru datale noaste prin schimbarea formei/shape\n",
    "# imagini originale de la (60000,28,28) catre (60000,28,28,1)\n",
    "x_train = x_train.reshape(x_train.shape[0],img_rows, img_cols,1)\n",
    "x_test = x_test.reshape(x_test.shape[0], img_rows, img_cols, 1)\n",
    "\n",
    "#Stocheaza forma/shape a unei singure imagini\n",
    "input_shape = (img_rows, img_cols,1)\n",
    "\n",
    "#schimba typul de imagine catre float32\n",
    "x_train = x_train.astype('float32')\n",
    "x_test = x_test.astype('float32')\n",
    "\n",
    "#Normalizarea datelor prin schimbarea range de la (0-255) la (0-1)\n",
    "x_train /=255\n",
    "x_test /=255\n",
    "\n",
    "#hot encode output\n",
    "y_train = np_utils.to_categorical(y_train)\n",
    "y_test = np_utils.to_categorical(y_test)\n",
    "\n",
    "#Printeaza numarulde coloane in  hot encode\n",
    "print(\"Number of Classes: \" +str(y_test.shape[1]))\n",
    "\n",
    "num_classes = y_test.shape[1]\n",
    "num_pixels = x_train.shape[1] * x_train.shape[2]\n",
    "\n",
    "#Crearea modelului\n",
    "model = Sequential()\n",
    "\n",
    "model.add(Conv2D(32,(3,3), activation='relu', input_shape=input_shape))\n",
    "model.add(Conv2D(64,(3,3), activation='relu'))\n",
    "model.add(MaxPooling2D((2,2)))\n",
    "model.add(Dropout(0.25))\n",
    "model.add(Flatten())\n",
    "model.add(Dense(128,activation='relu'))\n",
    "model.add(Dropout(0.5))\n",
    "model.add(Dense(num_classes, activation='softmax'))\n",
    "\n",
    "#compile\n",
    "model.compile(keras.optimizers.Adadelta(), 'categorical_crossentropy', ['accuracy'])\n",
    "print(model.summary())\n",
    "\n",
    "checkpoint = ModelCheckpoint(\"c:/Users/Harum/Documents/12/MNIST_Checkpoint.h5\",\n",
    "                             monitor='val_loss',\n",
    "                             mode='min',\n",
    "                             save_best_only= True,\n",
    "                             verbose=1\n",
    "\n",
    ")\n",
    "callbacks = [checkpoint]"
   ]
  },
  {
   "cell_type": "code",
   "execution_count": 8,
   "metadata": {},
   "outputs": [
    {
     "name": "stdout",
     "output_type": "stream",
     "text": "WARNING:tensorflow:From C:\\Users\\Harum\\AppData\\Local\\Programs\\Python\\Python37\\lib\\site-packages\\tensorflow\\python\\ops\\math_ops.py:3066: to_int32 (from tensorflow.python.ops.math_ops) is deprecated and will be removed in a future version.\nInstructions for updating:\nUse tf.cast instead.\nTrain on 60000 samples, validate on 10000 samples\nEpoch 1/15\nEpoch 2/15\nEpoch 3/15\nEpoch 4/15\nEpoch 5/15\nEpoch 6/15\nEpoch 7/15\nEpoch 8/15\nEpoch 9/15\nEpoch 10/15\nEpoch 11/15\nEpoch 12/15\nEpoch 13/15\nEpoch 14/15\nEpoch 15/15\nTest loss 0.029990953985038322\nTest accuracy 0.9915000200271606\n"
    }
   ],
   "source": [
    "history = model.fit(x_train, y_train,\n",
    "                   batch_size,\n",
    "                   epochs,\n",
    "                   callbacks,\n",
    "                   validation_data=(x_test, y_test) \n",
    "            )\n",
    "\n",
    "score = model.evaluate(x_test, y_test, batch_size,0)\n",
    "print('Test loss', score[0])\n",
    "print(\"Test accuracy\", score[1])"
   ]
  },
  {
   "cell_type": "markdown",
   "metadata": {},
   "source": [
    "# Adauga multiple Call Backs si Early Stopping\n",
    "\n",
    "putem folosi ate metode de retur pentru a monitoriza procesul de instruire, cum ar fi Early Stopping. Consultati documentatia Keras pentru mai multe informati:\n",
    "        https://keras.io/callbacks/\n"
   ]
  },
  {
   "cell_type": "code",
   "execution_count": 9,
   "metadata": {},
   "outputs": [],
   "source": [
    "from keras.callbacks import EarlyStopping\n",
    "\n",
    "earlystop = EarlyStopping(monitor='val_loss',        #valoarea monitorizata pentru imbunatatire\n",
    "                          min_delta= 0,              # valoarea abs si modificarea minma  necesara inainte de a ne opri\n",
    "                          patience=3,                #Numarul de Epochs pe care le asteptam inainte de oprie\n",
    "                          verbose=1,\n",
    "                          restore_best_weights=True  #pastreaza cele mai bune weigths odata oprit          \n",
    ")\n",
    "\n",
    "#pune call back intro lista callback\n",
    "callbacks = [earlystop, checkpoint]"
   ]
  },
  {
   "cell_type": "code",
   "execution_count": 10,
   "metadata": {},
   "outputs": [
    {
     "name": "stdout",
     "output_type": "stream",
     "text": "Train on 60000 samples, validate on 10000 samples\nEpoch 1/3\n - 13s - loss: 0.0266 - accuracy: 0.9920 - val_loss: 0.0267 - val_accuracy: 0.9917\n\nEpoch 00001: val_loss improved from inf to 0.02672, saving model to c:/Users/Harum/Documents/12/MNIST_Checkpoint.h5\nEpoch 2/3\n - 13s - loss: 0.0270 - accuracy: 0.9923 - val_loss: 0.0308 - val_accuracy: 0.9916\n\nEpoch 00002: val_loss did not improve from 0.02672\nEpoch 3/3\n - 13s - loss: 0.0268 - accuracy: 0.9918 - val_loss: 0.0355 - val_accuracy: 0.9907\n\nEpoch 00003: val_loss did not improve from 0.02672\nTest loss:  0.03554967173404625\nTest accuracy:  0.9907000064849854\n"
    }
   ],
   "source": [
    "history = model.fit(x_train, y_train,\n",
    "                    batch_size=64,\n",
    "                    epochs=3,\n",
    "                    verbose=2,\n",
    "                    callbacks=callbacks,\n",
    "                    validation_data=(x_test, y_test)\n",
    ")\n",
    "\n",
    "score = model.evaluate(x_test, y_test, verbose=0)\n",
    "print('Test loss: ', score[0])\n",
    "print('Test accuracy: ', score[1])"
   ]
  },
  {
   "cell_type": "markdown",
   "metadata": {},
   "source": [
    "# O alta callback folositor este Reducerea ratei de invatare in Plateau\n",
    "\n",
    "Putem evita sa oscilam in jurul valori minime globale prin incercarea de a reduce rata de invatare printrun anumit fact. Daca nu se observa nicio imbunatatire in matricea monitorizata (val_loss, de obicei), asteptam un anumit numar de epochs (rabdare), atunci acet callback reduce rata de invatare cu un factor.\n",
    "\n",
    "\n"
   ]
  },
  {
   "cell_type": "code",
   "execution_count": 11,
   "metadata": {},
   "outputs": [],
   "source": [
    "from keras.callbacks import ReduceLROnPlateau\n",
    "\n",
    "reduce_lr = ReduceLROnPlateau('val_loss', 0.2,3,1,min_delta=0.0001)"
   ]
  },
  {
   "cell_type": "code",
   "execution_count": null,
   "metadata": {},
   "outputs": [],
   "source": []
  }
 ]
}